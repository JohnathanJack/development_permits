{
 "cells": [
  {
   "cell_type": "markdown",
   "metadata": {},
   "source": [
    "# Requires\n",
    "Permit Status:\n",
    "- Approved\n",
    "- Refused\n",
    "- Withdrawn\n",
    "- Cancelled\n",
    "\n",
    "Permit Description \\\n",
    "Permit Applicant Name \\\n",
    "Permit Number"
   ]
  },
  {
   "cell_type": "code",
   "execution_count": 22,
   "metadata": {},
   "outputs": [],
   "source": [
    "import pandas as pd\n",
    "import numpy as np\n",
    "from selenium import webdriver\n",
    "from selenium.webdriver.common.by import By\n",
    "from selenium.webdriver.support.ui import WebDriverWait\n",
    "from selenium.webdriver.support import expected_conditions as EC\n",
    "from selenium.webdriver.chrome.service import Service\n",
    "import time"
   ]
  },
  {
   "cell_type": "code",
   "execution_count": 23,
   "metadata": {},
   "outputs": [],
   "source": [
    "url = 'https://www.shapeyourcity.ca/development'\n",
    "PATH = \"C:\\Program Files (x86)\\chromedriver-win64\\chromedriver.exe\""
   ]
  },
  {
   "cell_type": "code",
   "execution_count": 66,
   "metadata": {},
   "outputs": [],
   "source": [
    "def get_list_of_urls(webpage,path):\n",
    "    \"\"\"\n",
    "    Scrapes all the URLs of the development permits within the webpage\n",
    "\n",
    "    Parameters:\n",
    "        webpage (str): the url of the webpage\n",
    "        path (str): the location of the user's chromedriver\n",
    "\n",
    "    Returns:\n",
    "        A list of strings which contains all of the development permits url \n",
    "    \"\"\"\n",
    "    \n",
    "    driver = webdriver.Chrome(service = Service(path))\n",
    "    driver.get(webpage)\n",
    "    # The element is located within an iframe, required to locate the iframe and switch frames\n",
    "    iframe = driver.find_element(By.TAG_NAME, 'iframe')\n",
    "    url_list = []\n",
    "    driver.switch_to.frame(iframe)\n",
    "    page_num = WebDriverWait(driver, 20).until(EC.visibility_of_all_elements_located((By.CSS_SELECTOR, \".chakra-button.ehq-paginationButton.css-i1louw\")))\n",
    "    last_page_num = int([item.text for item in page_num][-2])\n",
    "    # Scrape all of the urls on each page\n",
    "    for num in range(last_page_num+1):\n",
    "        # Ensures that all the CSS elements are loaded before scraping\n",
    "        urls = WebDriverWait(driver, 20).until(EC.visibility_of_all_elements_located((By.CSS_SELECTOR, '.chakra-link.ehq-projectCoverImg.css-1eh7kaa')))\n",
    "        for url in urls:\n",
    "            url_list.append(url.get_attribute('href'))\n",
    "        # After scraping all of the elements, click to the next page if not on the final page\n",
    "        if num < last_page_num+1:\n",
    "            click = driver.find_element(By.CSS_SELECTOR, \".chakra-button.ehq-paginationButton.ehq-paginationNextButton.css-i1louw\")\n",
    "            click.click()\n",
    "        else:\n",
    "            break\n",
    "        time.sleep(5)\n",
    "    driver.switch_to.default_content()\n",
    "    driver.quit()\n",
    "    return url_list"
   ]
  },
  {
   "cell_type": "code",
   "execution_count": 65,
   "metadata": {},
   "outputs": [
    {
     "data": {
      "text/plain": [
       "['https://www.shapeyourcity.ca/2143-william-st',\n",
       " 'https://www.shapeyourcity.ca/436-e-hastings-st',\n",
       " 'https://www.shapeyourcity.ca/985-nicola-st',\n",
       " 'https://www.shapeyourcity.ca/3581-w-30-ave-2',\n",
       " 'https://www.shapeyourcity.ca/848-seymour-st-2',\n",
       " 'https://www.shapeyourcity.ca/2775-e-hastings-st',\n",
       " 'https://www.shapeyourcity.ca/1338-matthews-ave',\n",
       " 'https://www.shapeyourcity.ca/1090-w-pender-st',\n",
       " 'https://www.shapeyourcity.ca/385-lakewood-dr',\n",
       " 'https://www.shapeyourcity.ca/3048-3080-w-broadway',\n",
       " 'https://www.shapeyourcity.ca/691-w-28-ave-2',\n",
       " 'https://www.shapeyourcity.ca/2518-2540-grandview-hwy-s-2',\n",
       " 'https://www.shapeyourcity.ca/1208-w-40-ave',\n",
       " 'https://www.shapeyourcity.ca/314-328-w-hastings-st-2',\n",
       " 'https://www.shapeyourcity.ca/7190-oak-st',\n",
       " 'https://www.shapeyourcity.ca/2607-ward-st',\n",
       " 'https://www.shapeyourcity.ca/6518-main-st',\n",
       " 'https://www.shapeyourcity.ca/233-e-11-ave',\n",
       " 'https://www.shapeyourcity.ca/2629-w-49-ave',\n",
       " 'https://www.shapeyourcity.ca/3150-rosemont-dr-2',\n",
       " 'https://www.shapeyourcity.ca/851-865-terminal-ave',\n",
       " 'https://www.shapeyourcity.ca/901-w-broadway-2',\n",
       " 'https://www.shapeyourcity.ca/1300-robson-st',\n",
       " 'https://www.shapeyourcity.ca/1739-venables-st',\n",
       " 'https://www.shapeyourcity.ca/3231-3245-fraser-st-and-675-e-17-ave',\n",
       " 'https://www.shapeyourcity.ca/6810-main-st',\n",
       " 'https://www.shapeyourcity.ca/1510-w-71-ave-and-8733-granville-st-2',\n",
       " 'https://www.shapeyourcity.ca/5299-main-st',\n",
       " 'https://www.shapeyourcity.ca/5198-james-st',\n",
       " 'https://www.shapeyourcity.ca/7777-granville-st',\n",
       " 'https://www.shapeyourcity.ca/1633-kingsway',\n",
       " 'https://www.shapeyourcity.ca/3479-cambie-st',\n",
       " 'https://www.shapeyourcity.ca/2851-w-29-ave',\n",
       " 'https://www.shapeyourcity.ca/3030-commercial-dr',\n",
       " 'https://www.shapeyourcity.ca/525-powell-st',\n",
       " 'https://www.shapeyourcity.ca/2003-w-19-ave',\n",
       " 'https://www.shapeyourcity.ca/5036-cypress-st',\n",
       " 'https://www.shapeyourcity.ca/2113-w-32-ave',\n",
       " 'https://www.shapeyourcity.ca/8689-river-district-crossing',\n",
       " 'https://www.shapeyourcity.ca/657-685-e-18-ave-2',\n",
       " 'https://www.shapeyourcity.ca/3642-kingsway',\n",
       " 'https://www.shapeyourcity.ca/188-w-8-ave',\n",
       " 'https://www.shapeyourcity.ca/323-w-6-ave',\n",
       " 'https://www.shapeyourcity.ca/1529-w-6-ave',\n",
       " 'https://www.shapeyourcity.ca/160-w-44-ave-2']"
      ]
     },
     "execution_count": 65,
     "metadata": {},
     "output_type": "execute_result"
    }
   ],
   "source": [
    "get_list_of_urls(url, PATH)"
   ]
  },
  {
   "cell_type": "code",
   "execution_count": null,
   "metadata": {},
   "outputs": [],
   "source": []
  }
 ],
 "metadata": {
  "kernelspec": {
   "display_name": "py_test_env",
   "language": "python",
   "name": "python3"
  },
  "language_info": {
   "codemirror_mode": {
    "name": "ipython",
    "version": 3
   },
   "file_extension": ".py",
   "mimetype": "text/x-python",
   "name": "python",
   "nbconvert_exporter": "python",
   "pygments_lexer": "ipython3",
   "version": "3.9.15"
  }
 },
 "nbformat": 4,
 "nbformat_minor": 2
}
