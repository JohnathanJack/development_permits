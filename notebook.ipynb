{
 "cells": [
  {
   "cell_type": "markdown",
   "metadata": {},
   "source": [
    "# Requires\n",
    "Permit Status:\n",
    "- Approved\n",
    "- Refused\n",
    "- Withdrawn\n",
    "- Cancelled\n",
    "\n",
    "Permit Description \\\n",
    "Permit Applicant Name \\\n",
    "Permit Number"
   ]
  },
  {
   "cell_type": "code",
   "execution_count": 6,
   "metadata": {},
   "outputs": [],
   "source": [
    "import pandas as pd\n",
    "import numpy as np\n",
    "from selenium import webdriver\n",
    "from selenium.webdriver.common.by import By\n",
    "from selenium.webdriver.support.ui import WebDriverWait\n",
    "from selenium.webdriver.support import expected_conditions as EC\n",
    "from selenium.webdriver.chrome.service import Service\n",
    "import time"
   ]
  },
  {
   "cell_type": "code",
   "execution_count": 7,
   "metadata": {},
   "outputs": [],
   "source": [
    "url = 'https://www.shapeyourcity.ca/development'\n",
    "PATH = \"C:\\Program Files (x86)\\chromedriver-win64\\chromedriver.exe\""
   ]
  },
  {
   "cell_type": "code",
   "execution_count": 17,
   "metadata": {},
   "outputs": [
    {
     "data": {
      "text/plain": [
       "['https://www.shapeyourcity.ca/436-e-hastings-st',\n",
       " 'https://www.shapeyourcity.ca/985-nicola-st',\n",
       " 'https://www.shapeyourcity.ca/3581-w-30-ave-2',\n",
       " 'https://www.shapeyourcity.ca/848-seymour-st-2',\n",
       " 'https://www.shapeyourcity.ca/2775-e-hastings-st',\n",
       " 'https://www.shapeyourcity.ca/1338-matthews-ave',\n",
       " 'https://www.shapeyourcity.ca/1090-w-pender-st',\n",
       " 'https://www.shapeyourcity.ca/385-lakewood-dr',\n",
       " 'https://www.shapeyourcity.ca/3048-3080-w-broadway',\n",
       " 'https://www.shapeyourcity.ca/691-w-28-ave-2',\n",
       " 'https://www.shapeyourcity.ca/2518-2540-grandview-hwy-s-2',\n",
       " 'https://www.shapeyourcity.ca/1208-w-40-ave',\n",
       " 'https://www.shapeyourcity.ca/314-328-w-hastings-st-2',\n",
       " 'https://www.shapeyourcity.ca/7190-oak-st',\n",
       " 'https://www.shapeyourcity.ca/2607-ward-st',\n",
       " 'https://www.shapeyourcity.ca/6518-main-st',\n",
       " 'https://www.shapeyourcity.ca/233-e-11-ave',\n",
       " 'https://www.shapeyourcity.ca/2629-w-49-ave']"
      ]
     },
     "execution_count": 17,
     "metadata": {},
     "output_type": "execute_result"
    }
   ],
   "source": [
    "driver = webdriver.Chrome(service = Service(PATH))\n",
    "driver.get(url)\n",
    "iframes = driver.find_elements(By.TAG_NAME, \"iframe\")\n",
    "url_list = []\n",
    "for num in range(2):\n",
    "    for iframe in iframes:\n",
    "        driver.switch_to.frame(iframe)\n",
    "        link = WebDriverWait(driver, 20).until(EC.visibility_of_all_elements_located((By.CSS_SELECTOR, '.chakra-link.ehq-projectCoverImg.css-1eh7kaa')))\n",
    "        for item in link:\n",
    "            url_list.append(item.get_attribute('href'))\n",
    "        driver.switch_to.default_content()\n",
    "    driver.switch_to.frame(iframes[0])\n",
    "    click = driver.find_element(By.CSS_SELECTOR, \".chakra-button.ehq-paginationButton.ehq-paginationNextButton.css-i1louw\")\n",
    "    click.click()\n",
    "    driver.switch_to.default_content()\n",
    "    time.sleep(5)\n",
    "url_list"
   ]
  },
  {
   "cell_type": "code",
   "execution_count": 18,
   "metadata": {},
   "outputs": [
    {
     "data": {
      "text/plain": [
       "18"
      ]
     },
     "execution_count": 18,
     "metadata": {},
     "output_type": "execute_result"
    }
   ],
   "source": [
    "len(url_list)"
   ]
  },
  {
   "cell_type": "code",
   "execution_count": null,
   "metadata": {},
   "outputs": [],
   "source": [
    "urls = item.get_attribute('href') for item in link"
   ]
  }
 ],
 "metadata": {
  "kernelspec": {
   "display_name": "py_test_env",
   "language": "python",
   "name": "python3"
  },
  "language_info": {
   "codemirror_mode": {
    "name": "ipython",
    "version": 3
   },
   "file_extension": ".py",
   "mimetype": "text/x-python",
   "name": "python",
   "nbconvert_exporter": "python",
   "pygments_lexer": "ipython3",
   "version": "3.9.15"
  }
 },
 "nbformat": 4,
 "nbformat_minor": 2
}
