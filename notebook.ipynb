{
 "cells": [
  {
   "cell_type": "markdown",
   "metadata": {},
   "source": [
    "# Requires\n",
    "Permit Status:\n",
    "- Approved\n",
    "- Refused\n",
    "- Withdrawn\n",
    "- Cancelled\n",
    "\n",
    "Permit Description \\\n",
    "Permit Applicant Name \\\n",
    "Permit Number"
   ]
  },
  {
   "cell_type": "code",
   "execution_count": 158,
   "metadata": {},
   "outputs": [],
   "source": [
    "import pandas as pd\n",
    "import numpy as np\n",
    "from selenium import webdriver\n",
    "from selenium.webdriver.common.by import By\n",
    "from selenium.webdriver.support.ui import WebDriverWait\n",
    "from selenium.webdriver.support import expected_conditions as EC\n",
    "from selenium.webdriver.chrome.service import Service\n",
    "import time"
   ]
  },
  {
   "cell_type": "code",
   "execution_count": 160,
   "metadata": {},
   "outputs": [],
   "source": [
    "url = 'https://www.shapeyourcity.ca/development'\n",
    "PATH = \"C:\\Program Files (x86)\\chromedriver-win64\\chromedriver.exe\""
   ]
  },
  {
   "cell_type": "code",
   "execution_count": 184,
   "metadata": {},
   "outputs": [
    {
     "data": {
      "text/plain": [
       "['https://www.shapeyourcity.ca/436-e-hastings-st',\n",
       " 'https://www.shapeyourcity.ca/985-nicola-st',\n",
       " 'https://www.shapeyourcity.ca/3581-w-30-ave-2',\n",
       " 'https://www.shapeyourcity.ca/848-seymour-st-2',\n",
       " 'https://www.shapeyourcity.ca/2775-e-hastings-st',\n",
       " 'https://www.shapeyourcity.ca/1338-matthews-ave',\n",
       " 'https://www.shapeyourcity.ca/1090-w-pender-st',\n",
       " 'https://www.shapeyourcity.ca/385-lakewood-dr',\n",
       " 'https://www.shapeyourcity.ca/3048-3080-w-broadway']"
      ]
     },
     "execution_count": 184,
     "metadata": {},
     "output_type": "execute_result"
    }
   ],
   "source": [
    "driver = webdriver.Chrome(service = Service(PATH))\n",
    "driver.get(url)\n",
    "iframes = driver.find_elements(By.TAG_NAME, \"iframe\")\n",
    "for iframe in iframes:\n",
    "    driver.switch_to.frame(iframe)\n",
    "    link = WebDriverWait(driver, 20).until(EC.visibility_of_all_elements_located((By.CSS_SELECTOR, '.chakra-link.ehq-projectCoverImg.css-1eh7kaa')))\n",
    "    urls = [item.get_attribute('href') for item in link]\n",
    "    driver.switch_to.default_content()\n",
    "urls"
   ]
  }
 ],
 "metadata": {
  "kernelspec": {
   "display_name": "py_test_env",
   "language": "python",
   "name": "python3"
  },
  "language_info": {
   "codemirror_mode": {
    "name": "ipython",
    "version": 3
   },
   "file_extension": ".py",
   "mimetype": "text/x-python",
   "name": "python",
   "nbconvert_exporter": "python",
   "pygments_lexer": "ipython3",
   "version": "3.9.15"
  }
 },
 "nbformat": 4,
 "nbformat_minor": 2
}
