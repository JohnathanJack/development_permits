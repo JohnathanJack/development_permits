{
 "cells": [
  {
   "cell_type": "markdown",
   "metadata": {},
   "source": [
    "# Requires\n",
    "Permit Status:\n",
    "- Approved\n",
    "- Refused\n",
    "- Withdrawn\n",
    "- Cancelled\n",
    "\n",
    "Permit Description \\\n",
    "Permit Applicant Name \\\n",
    "Permit Number"
   ]
  },
  {
   "cell_type": "code",
   "execution_count": 72,
   "metadata": {},
   "outputs": [],
   "source": [
    "import pandas as pd\n",
    "import numpy as np\n",
    "from selenium import webdriver\n",
    "from selenium.webdriver.common.by import By\n",
    "from selenium.webdriver.support.ui import WebDriverWait\n",
    "from selenium.webdriver.support import expected_conditions as EC\n",
    "from selenium.webdriver.chrome.service import Service\n",
    "from selenium.webdriver.chrome.options import Options\n",
    "import time\n",
    "import pickle"
   ]
  },
  {
   "cell_type": "code",
   "execution_count": 69,
   "metadata": {},
   "outputs": [],
   "source": [
    "url = 'https://www.shapeyourcity.ca/development'\n",
    "PATH = \"C:\\Program Files (x86)\\chromedriver-win64\\chromedriver.exe\""
   ]
  },
  {
   "cell_type": "code",
   "execution_count": 77,
   "metadata": {},
   "outputs": [],
   "source": [
    "def get_list_of_urls(webpage,path):\n",
    "    \"\"\"\n",
    "    Scrapes all the URLs of the development permits within the webpage\n",
    "\n",
    "    Parameters:\n",
    "        webpage (str): the url of the webpage\n",
    "        path (str): the location of the user's chromedriver\n",
    "\n",
    "    Returns:\n",
    "        A list of strings which contains all of the development permits url \n",
    "    \"\"\"\n",
    "    \n",
    "    chrome_options = Options()\n",
    "    chrome_options.add_argument(\"--headless=new\")\n",
    "    driver = webdriver.Chrome(service = Service(path), options=chrome_options)\n",
    "    driver.get(webpage)\n",
    "    # The element is located within an iframe, required to locate the iframe and switch frames\n",
    "    iframe = driver.find_element(By.TAG_NAME, 'iframe')\n",
    "    url_list = []\n",
    "    driver.switch_to.frame(iframe)\n",
    "    page_num = WebDriverWait(driver, 20).until(EC.visibility_of_all_elements_located((By.CSS_SELECTOR, \".chakra-button.ehq-paginationButton.css-i1louw\")))\n",
    "    last_page_num = int([item.text for item in page_num][-2])\n",
    "    # Scrape all of the urls on each page\n",
    "    for num in range(last_page_num+1):\n",
    "        # Ensures that all the CSS elements are loaded before scraping\n",
    "        urls = WebDriverWait(driver, 20).until(EC.visibility_of_all_elements_located((By.CSS_SELECTOR, '.chakra-link.ehq-projectCoverImg.css-1eh7kaa')))\n",
    "        for url in urls:\n",
    "            url_list.append(url.get_attribute('href'))\n",
    "        # After scraping all of the elements, click to the next page if not on the final page\n",
    "        if num < last_page_num+1:\n",
    "            click = driver.find_element(By.CSS_SELECTOR, \".chakra-button.ehq-paginationButton.ehq-paginationNextButton.css-i1louw\")\n",
    "            click.click()\n",
    "        else:\n",
    "            break\n",
    "        time.sleep(5)\n",
    "    driver.switch_to.default_content()\n",
    "    driver.quit()\n",
    "    return url_list"
   ]
  },
  {
   "cell_type": "code",
   "execution_count": 78,
   "metadata": {},
   "outputs": [],
   "source": [
    "all_permit_urls = get_list_of_urls(url, PATH)\n",
    "# save the urls to a pickle file that can be opened at any time without re-running the code. \n",
    "with open('permit_urls', 'wb') as f:\n",
    "    pickle.dump(all_permit_urls, f)"
   ]
  },
  {
   "cell_type": "code",
   "execution_count": 79,
   "metadata": {},
   "outputs": [
    {
     "data": {
      "text/plain": [
       "606"
      ]
     },
     "execution_count": 79,
     "metadata": {},
     "output_type": "execute_result"
    }
   ],
   "source": []
  },
  {
   "cell_type": "code",
   "execution_count": null,
   "metadata": {},
   "outputs": [],
   "source": []
  }
 ],
 "metadata": {
  "kernelspec": {
   "display_name": "py_test_env",
   "language": "python",
   "name": "python3"
  },
  "language_info": {
   "codemirror_mode": {
    "name": "ipython",
    "version": 3
   },
   "file_extension": ".py",
   "mimetype": "text/x-python",
   "name": "python",
   "nbconvert_exporter": "python",
   "pygments_lexer": "ipython3",
   "version": "3.9.15"
  }
 },
 "nbformat": 4,
 "nbformat_minor": 2
}
