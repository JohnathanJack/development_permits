{
 "cells": [
  {
   "cell_type": "code",
   "execution_count": 1,
   "metadata": {},
   "outputs": [],
   "source": [
    "import pandas as pd\n",
    "from selenium import webdriver\n",
    "from selenium.webdriver.common.by import By\n",
    "from selenium.webdriver.support.ui import WebDriverWait\n",
    "from selenium.webdriver.support import expected_conditions as EC\n",
    "from selenium.webdriver.chrome.service import Service\n",
    "from selenium.webdriver.chrome.options import Options\n",
    "import time\n",
    "import pickle\n",
    "import re"
   ]
  },
  {
   "cell_type": "code",
   "execution_count": 29,
   "metadata": {},
   "outputs": [],
   "source": [
    "url = 'https://www.shapeyourcity.ca/development'\n",
    "PATH = \"C:\\Program Files (x86)\\chromedriver-win64\\chromedriver.exe\""
   ]
  },
  {
   "cell_type": "code",
   "execution_count": 2,
   "metadata": {},
   "outputs": [],
   "source": [
    "def get_list_of_urls(webpage,path):\n",
    "    \"\"\"\n",
    "    Scrapes all the URLs of the development permits within the webpage\n",
    "\n",
    "    Parameters:\n",
    "        webpage (str): the url of the webpage\n",
    "        path (str): the location of the user's chromedriver\n",
    "\n",
    "    Returns:\n",
    "        A list of strings which contains all of the development permits url \n",
    "    \"\"\"\n",
    "    \n",
    "    chrome_options = Options()\n",
    "    chrome_options.add_argument(\"--headless=new\")\n",
    "    driver = webdriver.Chrome(service = Service(path), options=chrome_options)\n",
    "    driver.get(webpage)\n",
    "    # The element is located within an iframe, required to locate the iframe and switch frames\n",
    "    iframe = driver.find_element(By.TAG_NAME, 'iframe')\n",
    "    url_list = []\n",
    "    driver.switch_to.frame(iframe)\n",
    "    page_num = WebDriverWait(driver, 20).until(EC.visibility_of_all_elements_located((By.CSS_SELECTOR, \".chakra-button.ehq-paginationButton.css-i1louw\")))\n",
    "    last_page_num = int([item.text for item in page_num][-2])\n",
    "    # Scrape all of the urls on each page\n",
    "    for num in range(last_page_num+1):\n",
    "        # Ensures that all the CSS elements are loaded before scraping\n",
    "        urls = WebDriverWait(driver, 20).until(EC.visibility_of_all_elements_located((By.CSS_SELECTOR, '.chakra-link.ehq-projectCoverImg.css-1eh7kaa')))\n",
    "        for url in urls:\n",
    "            url_list.append(url.get_attribute('href'))\n",
    "        # After scraping all of the elements, click to the next page if not on the final page\n",
    "        if num < last_page_num+1:\n",
    "            click = driver.find_element(By.CSS_SELECTOR, \".chakra-button.ehq-paginationButton.ehq-paginationNextButton.css-i1louw\")\n",
    "            click.click()\n",
    "        else:\n",
    "            break\n",
    "        time.sleep(5)\n",
    "    driver.switch_to.default_content()\n",
    "    driver.quit()\n",
    "    return url_list"
   ]
  },
  {
   "cell_type": "code",
   "execution_count": 78,
   "metadata": {},
   "outputs": [],
   "source": [
    "all_permit_urls = get_list_of_urls(url, PATH)\n",
    "# save the urls to a pickle file that can be opened at any time without re-running the code. \n",
    "with open('permit_urls', 'wb') as f:\n",
    "    pickle.dump(all_permit_urls, f)"
   ]
  },
  {
   "cell_type": "code",
   "execution_count": 3,
   "metadata": {},
   "outputs": [],
   "source": [
    "# Load the saved pickle with all the URLs.\n",
    "all_permit_urls_saved = pd.read_pickle('permit_urls')"
   ]
  },
  {
   "cell_type": "code",
   "execution_count": 4,
   "metadata": {},
   "outputs": [],
   "source": [
    "def get_list_of_applicant(list_of_description):\n",
    "    \"\"\"\n",
    "    Utilizes regex to obtain the applicants name from the list of description\n",
    "\n",
    "    Parameters:\n",
    "        list_of_description (list of str): the description of the webpage derived from the get_description \n",
    "\n",
    "    Returns:\n",
    "        A list of the applicant names \n",
    "    \"\"\"\n",
    "    \n",
    "    regex = r'^[\\s\\S]*?(?=\\s+has applied)'\n",
    "    list_of_applicant = []\n",
    "    for applicant in list_of_description:\n",
    "        try:\n",
    "            applicant_name = applicant[:re.search(regex, applicant).span()[1]]\n",
    "        except:\n",
    "            applicant_name = 'Unknown'\n",
    "        list_of_applicant.append(applicant_name)\n",
    "    return list_of_applicant"
   ]
  },
  {
   "cell_type": "code",
   "execution_count": 5,
   "metadata": {},
   "outputs": [],
   "source": [
    "def application_status(driver):\n",
    "    \"\"\"\n",
    "    Scrape webpage to obtain the Director of Planning decision\n",
    "\n",
    "    Parameters:\n",
    "        driver: the driver that opened the webpage\n",
    "\n",
    "    Returns:\n",
    "        The application status\n",
    "    \"\"\"  \n",
    "\n",
    "    try:\n",
    "        text_info = WebDriverWait(driver, 20).until(EC.visibility_of_element_located((By.TAG_NAME,'strong'))).text.split()\n",
    "        if 'Director' in text_info:\n",
    "            if 'approved' in text_info:\n",
    "                return 'Approved'\n",
    "            elif 'cancelled' in text_info:\n",
    "                return 'Cancelled'\n",
    "            elif 'withdrawn' in text_info:\n",
    "                return 'Withdrawn'\n",
    "            else:\n",
    "                return 'Rejected'\n",
    "        else:\n",
    "            return 'In progress'\n",
    "    except:\n",
    "        return 'In progress'"
   ]
  },
  {
   "cell_type": "code",
   "execution_count": 6,
   "metadata": {},
   "outputs": [],
   "source": [
    "def permit_status(driver, regex):\n",
    "    \"\"\"\n",
    "    Scrapes webpage to obtain the development permit id\n",
    "\n",
    "    Parameters:\n",
    "        driver: the driver that opened the webpage\n",
    "        regex: the regular expression required to isolate the permit id\n",
    "\n",
    "    Returns:\n",
    "        The development permit id \n",
    "    \"\"\"\n",
    "    \n",
    "    try:\n",
    "        head_text = driver.find_element(By.TAG_NAME, 'h1').text\n",
    "        permit_id = re.search(regex, head_text)[1] \n",
    "    except:\n",
    "        permit_id = 'Unknown'\n",
    "    return permit_id"
   ]
  },
  {
   "cell_type": "code",
   "execution_count": 7,
   "metadata": {},
   "outputs": [],
   "source": [
    "def scrape_description(driver):\n",
    "    \"\"\"\n",
    "    Scrapes each webpage to obtain the description of each development permit application\n",
    "\n",
    "    Parameters:\n",
    "        driver: the driver that opened the webpage\n",
    "\n",
    "    Returns:\n",
    "        The description of the development permit application \n",
    "    \"\"\"\n",
    "\n",
    "    text = WebDriverWait(driver, 20).until(EC.visibility_of_element_located((By.CLASS_NAME, 'truncated-description'))).text\n",
    "    return text"
   ]
  },
  {
   "cell_type": "code",
   "execution_count": 8,
   "metadata": {},
   "outputs": [],
   "source": [
    "def scrape_info(list_of_urls, path):\n",
    "    \"\"\"\n",
    "    Scrapes each webpage in the list of urls\n",
    "\n",
    "    Parameters:\n",
    "        list_of_urls (list of str): all the urls to be scraped\n",
    "        path (str): the location of the user's chromedriver\n",
    "\n",
    "    Returns:\n",
    "        A tuple where the 0th element is the list status, the 1st element is the description list, and the 2nd element is the permit list\n",
    "    \"\"\"\n",
    "\n",
    "    chrome_options = Options()\n",
    "    chrome_options.add_argument(\"--headless=new\")\n",
    "    list_status = []\n",
    "    description_list = []\n",
    "    permit_list = []\n",
    "    error_list = []\n",
    "    regex_permit = r'\\((DP.*?)\\)'\n",
    "    for url in list_of_urls:\n",
    "        driver = webdriver.Chrome(service = Service(path), options = chrome_options)\n",
    "        driver.get(url)\n",
    "        try:\n",
    "            list_status.append(application_status(driver))\n",
    "            permit_list.append(permit_status(driver, regex_permit))\n",
    "            description_list.append(scrape_description(driver))\n",
    "            driver.quit()\n",
    "            time.sleep(3)\n",
    "        except:\n",
    "            error_list.append(url)\n",
    "            driver.quit()\n",
    "            time.sleep(3)\n",
    "    return list_status, description_list, permit_list, error_list\n"
   ]
  },
  {
   "cell_type": "code",
   "execution_count": 151,
   "metadata": {},
   "outputs": [],
   "source": [
    "all_information = scrape_info(all_permit_urls_saved, PATH)"
   ]
  },
  {
   "cell_type": "code",
   "execution_count": 152,
   "metadata": {},
   "outputs": [],
   "source": [
    "# Save all the scraped information\n",
    "with open('scraped_data', 'wb') as f:\n",
    "    pickle.dump(all_information, f)"
   ]
  },
  {
   "cell_type": "code",
   "execution_count": 13,
   "metadata": {},
   "outputs": [],
   "source": [
    "scraped_information = pd.read_pickle('scraped_data')"
   ]
  },
  {
   "cell_type": "code",
   "execution_count": 153,
   "metadata": {},
   "outputs": [],
   "source": [
    "# Get Applicant name from the description\n",
    "applicant = get_list_of_applicant(all_information[1])"
   ]
  },
  {
   "cell_type": "code",
   "execution_count": 154,
   "metadata": {},
   "outputs": [],
   "source": [
    "# Create the dataframe to hold all the necessary information\n",
    "df = pd.DataFrame({\"Applicant_Name\": applicant})\n",
    "df['permit_id'] = all_information[2]\n",
    "df['applicant_status'] = all_information[0]\n",
    "df['description'] = all_information[1]"
   ]
  },
  {
   "cell_type": "code",
   "execution_count": 155,
   "metadata": {},
   "outputs": [],
   "source": [
    "# save the database\n",
    "with open('database', 'wb') as f:\n",
    "    pickle.dump(df, f)"
   ]
  },
  {
   "cell_type": "code",
   "execution_count": 10,
   "metadata": {},
   "outputs": [],
   "source": [
    "df = pd.read_pickle('database')"
   ]
  },
  {
   "cell_type": "code",
   "execution_count": null,
   "metadata": {},
   "outputs": [],
   "source": [
    "# Grab first item of current url list, scrape first page of website, check each url of the first page of website until it matches the first item, stop loop, collect urls in a list and extend this list with the old one. "
   ]
  },
  {
   "cell_type": "code",
   "execution_count": 20,
   "metadata": {},
   "outputs": [],
   "source": [
    "most_recent_url = all_permit_urls_saved[0]"
   ]
  },
  {
   "cell_type": "code",
   "execution_count": 22,
   "metadata": {},
   "outputs": [],
   "source": [
    "def get_recent_urls(webpage, path, recent_url):\n",
    "    \"\"\"\n",
    "    Scrapes all the recent URLs of the development permits within the webpage\n",
    "\n",
    "    Parameters:\n",
    "        webpage (str): the url of the webpage\n",
    "        path (str): the location of the user's chromedriver\n",
    "        recent_url (str): the most recent url from the saved list\n",
    "\n",
    "    Returns:\n",
    "        A list of strings which contains all of the development permits url \n",
    "    \"\"\"\n",
    "    chrome_options = Options()\n",
    "    chrome_options.add_argument(\"--headless=new\")\n",
    "    driver = webdriver.Chrome(service = Service(path), options=chrome_options)\n",
    "    driver.get(webpage)\n",
    "    # The element is located within an iframe, required to locate the iframe and switch frames\n",
    "    iframe = driver.find_element(By.TAG_NAME, 'iframe')\n",
    "    main_url_list = []\n",
    "    sub_url_list = []\n",
    "    loop_check = True\n",
    "    driver.switch_to.frame(iframe)\n",
    "    while loop_check:\n",
    "        urls = WebDriverWait(driver, 20).until(EC.visibility_of_all_elements_located((By.CSS_SELECTOR, '.chakra-link.ehq-projectCoverImg.css-1eh7kaa')))\n",
    "        for url in urls:\n",
    "            if url.get_attribute('href') == recent_url:\n",
    "                loop_check = False\n",
    "                break\n",
    "            sub_url_list.append(url.get_attribute('href'))\n",
    "        click = driver.find_element(By.CSS_SELECTOR, \".chakra-button.ehq-paginationButton.ehq-paginationNextButton.css-i1louw\")\n",
    "        click.click()\n",
    "        main_url_list.extend(sub_url_list)\n",
    "    driver.switch_to.default_content()\n",
    "    driver.quit()\n",
    "    return main_url_list"
   ]
  },
  {
   "cell_type": "code",
   "execution_count": 28,
   "metadata": {},
   "outputs": [
    {
     "ename": "InvalidArgumentException",
     "evalue": "Message: invalid argument: 'url' must be a string\n  (Session info: chrome=122.0.6261.113)\nStacktrace:\n\tGetHandleVerifier [0x00007FF742FCAD32+56930]\n\t(No symbol) [0x00007FF742F3F632]\n\t(No symbol) [0x00007FF742DF42E5]\n\t(No symbol) [0x00007FF742E78C1A]\n\t(No symbol) [0x00007FF742E5BC9A]\n\t(No symbol) [0x00007FF742E781E2]\n\t(No symbol) [0x00007FF742E5BA43]\n\t(No symbol) [0x00007FF742E2D438]\n\t(No symbol) [0x00007FF742E2E4D1]\n\tGetHandleVerifier [0x00007FF743346ABD+3709933]\n\tGetHandleVerifier [0x00007FF74339FFFD+4075821]\n\tGetHandleVerifier [0x00007FF74339818F+4043455]\n\tGetHandleVerifier [0x00007FF743069766+706710]\n\t(No symbol) [0x00007FF742F4B90F]\n\t(No symbol) [0x00007FF742F46AF4]\n\t(No symbol) [0x00007FF742F46C4C]\n\t(No symbol) [0x00007FF742F36904]\n\tBaseThreadInitThunk [0x00007FFBF8D6257D+29]\n\tRtlUserThreadStart [0x00007FFBF906AA58+40]\n",
     "output_type": "error",
     "traceback": [
      "\u001b[1;31m---------------------------------------------------------------------------\u001b[0m",
      "\u001b[1;31mInvalidArgumentException\u001b[0m                  Traceback (most recent call last)",
      "Input \u001b[1;32mIn [28]\u001b[0m, in \u001b[0;36m<cell line: 2>\u001b[1;34m()\u001b[0m\n\u001b[0;32m      1\u001b[0m driver \u001b[38;5;241m=\u001b[39m webdriver\u001b[38;5;241m.\u001b[39mChrome(service \u001b[38;5;241m=\u001b[39m Service(PATH))\n\u001b[1;32m----> 2\u001b[0m \u001b[43mdriver\u001b[49m\u001b[38;5;241;43m.\u001b[39;49m\u001b[43mget\u001b[49m\u001b[43m(\u001b[49m\u001b[43murl\u001b[49m\u001b[43m)\u001b[49m\n\u001b[0;32m      3\u001b[0m url_list \u001b[38;5;241m=\u001b[39m []\n\u001b[0;32m      4\u001b[0m loop_check \u001b[38;5;241m=\u001b[39m \u001b[38;5;28;01mTrue\u001b[39;00m\n",
      "File \u001b[1;32mc:\\Users\\John\\anaconda3\\envs\\py_test_env\\lib\\site-packages\\selenium\\webdriver\\remote\\webdriver.py:356\u001b[0m, in \u001b[0;36mWebDriver.get\u001b[1;34m(self, url)\u001b[0m\n\u001b[0;32m    354\u001b[0m \u001b[38;5;28;01mdef\u001b[39;00m \u001b[38;5;21mget\u001b[39m(\u001b[38;5;28mself\u001b[39m, url: \u001b[38;5;28mstr\u001b[39m) \u001b[38;5;241m-\u001b[39m\u001b[38;5;241m>\u001b[39m \u001b[38;5;28;01mNone\u001b[39;00m:\n\u001b[0;32m    355\u001b[0m     \u001b[38;5;124;03m\"\"\"Loads a web page in the current browser session.\"\"\"\u001b[39;00m\n\u001b[1;32m--> 356\u001b[0m     \u001b[38;5;28;43mself\u001b[39;49m\u001b[38;5;241;43m.\u001b[39;49m\u001b[43mexecute\u001b[49m\u001b[43m(\u001b[49m\u001b[43mCommand\u001b[49m\u001b[38;5;241;43m.\u001b[39;49m\u001b[43mGET\u001b[49m\u001b[43m,\u001b[49m\u001b[43m \u001b[49m\u001b[43m{\u001b[49m\u001b[38;5;124;43m\"\u001b[39;49m\u001b[38;5;124;43murl\u001b[39;49m\u001b[38;5;124;43m\"\u001b[39;49m\u001b[43m:\u001b[49m\u001b[43m \u001b[49m\u001b[43murl\u001b[49m\u001b[43m}\u001b[49m\u001b[43m)\u001b[49m\n",
      "File \u001b[1;32mc:\\Users\\John\\anaconda3\\envs\\py_test_env\\lib\\site-packages\\selenium\\webdriver\\remote\\webdriver.py:347\u001b[0m, in \u001b[0;36mWebDriver.execute\u001b[1;34m(self, driver_command, params)\u001b[0m\n\u001b[0;32m    345\u001b[0m response \u001b[38;5;241m=\u001b[39m \u001b[38;5;28mself\u001b[39m\u001b[38;5;241m.\u001b[39mcommand_executor\u001b[38;5;241m.\u001b[39mexecute(driver_command, params)\n\u001b[0;32m    346\u001b[0m \u001b[38;5;28;01mif\u001b[39;00m response:\n\u001b[1;32m--> 347\u001b[0m     \u001b[38;5;28;43mself\u001b[39;49m\u001b[38;5;241;43m.\u001b[39;49m\u001b[43merror_handler\u001b[49m\u001b[38;5;241;43m.\u001b[39;49m\u001b[43mcheck_response\u001b[49m\u001b[43m(\u001b[49m\u001b[43mresponse\u001b[49m\u001b[43m)\u001b[49m\n\u001b[0;32m    348\u001b[0m     response[\u001b[38;5;124m\"\u001b[39m\u001b[38;5;124mvalue\u001b[39m\u001b[38;5;124m\"\u001b[39m] \u001b[38;5;241m=\u001b[39m \u001b[38;5;28mself\u001b[39m\u001b[38;5;241m.\u001b[39m_unwrap_value(response\u001b[38;5;241m.\u001b[39mget(\u001b[38;5;124m\"\u001b[39m\u001b[38;5;124mvalue\u001b[39m\u001b[38;5;124m\"\u001b[39m, \u001b[38;5;28;01mNone\u001b[39;00m))\n\u001b[0;32m    349\u001b[0m     \u001b[38;5;28;01mreturn\u001b[39;00m response\n",
      "File \u001b[1;32mc:\\Users\\John\\anaconda3\\envs\\py_test_env\\lib\\site-packages\\selenium\\webdriver\\remote\\errorhandler.py:229\u001b[0m, in \u001b[0;36mErrorHandler.check_response\u001b[1;34m(self, response)\u001b[0m\n\u001b[0;32m    227\u001b[0m         alert_text \u001b[38;5;241m=\u001b[39m value[\u001b[38;5;124m\"\u001b[39m\u001b[38;5;124malert\u001b[39m\u001b[38;5;124m\"\u001b[39m]\u001b[38;5;241m.\u001b[39mget(\u001b[38;5;124m\"\u001b[39m\u001b[38;5;124mtext\u001b[39m\u001b[38;5;124m\"\u001b[39m)\n\u001b[0;32m    228\u001b[0m     \u001b[38;5;28;01mraise\u001b[39;00m exception_class(message, screen, stacktrace, alert_text)  \u001b[38;5;66;03m# type: ignore[call-arg]  # mypy is not smart enough here\u001b[39;00m\n\u001b[1;32m--> 229\u001b[0m \u001b[38;5;28;01mraise\u001b[39;00m exception_class(message, screen, stacktrace)\n",
      "\u001b[1;31mInvalidArgumentException\u001b[0m: Message: invalid argument: 'url' must be a string\n  (Session info: chrome=122.0.6261.113)\nStacktrace:\n\tGetHandleVerifier [0x00007FF742FCAD32+56930]\n\t(No symbol) [0x00007FF742F3F632]\n\t(No symbol) [0x00007FF742DF42E5]\n\t(No symbol) [0x00007FF742E78C1A]\n\t(No symbol) [0x00007FF742E5BC9A]\n\t(No symbol) [0x00007FF742E781E2]\n\t(No symbol) [0x00007FF742E5BA43]\n\t(No symbol) [0x00007FF742E2D438]\n\t(No symbol) [0x00007FF742E2E4D1]\n\tGetHandleVerifier [0x00007FF743346ABD+3709933]\n\tGetHandleVerifier [0x00007FF74339FFFD+4075821]\n\tGetHandleVerifier [0x00007FF74339818F+4043455]\n\tGetHandleVerifier [0x00007FF743069766+706710]\n\t(No symbol) [0x00007FF742F4B90F]\n\t(No symbol) [0x00007FF742F46AF4]\n\t(No symbol) [0x00007FF742F46C4C]\n\t(No symbol) [0x00007FF742F36904]\n\tBaseThreadInitThunk [0x00007FFBF8D6257D+29]\n\tRtlUserThreadStart [0x00007FFBF906AA58+40]\n"
     ]
    }
   ],
   "source": [
    "driver = webdriver.Chrome(service = Service(PATH))\n",
    "driver.get(url)\n",
    "url_list = []\n",
    "loop_check = True\n",
    "iframe = driver.find_element(By.TAG_NAME, 'iframe')\n",
    "while loop_check:\n",
    "    urls = WebDriverWait(driver, 20).until(EC.visibility_of_all_elements_located((By.CSS_SELECTOR, '.chakra-link.ehq-projectCoverImg.css-1eh7kaa')))\n",
    "    for url in urls:\n",
    "        if url.get_attribute('href') == most_recent_url:\n",
    "            loop_check = False\n",
    "            break\n",
    "        else:\n",
    "            url_list.append(url.get_attribute('href'))\n",
    "    click = driver.find_element(By.CSS_SELECTOR, \".chakra-button.ehq-paginationButton.ehq-paginationNextButton.css-i1louw\")\n",
    "    click.click()\n",
    "driver.switch_to.default_content()\n",
    "driver.quit()"
   ]
  },
  {
   "cell_type": "code",
   "execution_count": null,
   "metadata": {},
   "outputs": [],
   "source": []
  }
 ],
 "metadata": {
  "kernelspec": {
   "display_name": "py_test_env",
   "language": "python",
   "name": "python3"
  },
  "language_info": {
   "codemirror_mode": {
    "name": "ipython",
    "version": 3
   },
   "file_extension": ".py",
   "mimetype": "text/x-python",
   "name": "python",
   "nbconvert_exporter": "python",
   "pygments_lexer": "ipython3",
   "version": "3.9.15"
  }
 },
 "nbformat": 4,
 "nbformat_minor": 2
}
